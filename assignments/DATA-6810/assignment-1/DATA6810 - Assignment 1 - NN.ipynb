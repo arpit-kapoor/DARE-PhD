{
 "cells": [
  {
   "cell_type": "markdown",
   "metadata": {},
   "source": [
    "# DATA6810 - Assignment 1\n",
    "\n",
    "## Neural Networks\n",
    "\n",
    "In this assignment, we are going to practice learning with neural networks using a *regression* example.\n",
    "\n",
    "**Semester 1, March 2022**\n",
    "\n",
    "Lecturers and Tutors: Simon Luo and Rafael Oliveira\n",
    "\n",
    "### Software setup\n",
    "\n",
    "This code will be run in Python 3, and we need to install a few Python packages. To avoid interference with other\n",
    "system packages, we basically have two alternatives. We could setup a virtual environment with tools like `virtualenv`\n",
    "or `anaconda`. Alternatively, we can use online Python interpreters, like Google Colab.\n",
    "\n",
    "As in the tutorial, you *may* use [Google Colab](https://colab.research.google.com) following the instructions below.\n",
    "\n",
    "Instructions:\n",
    "1. Head to Google Colab at: https://colab.research.google.com\n",
    "2. If you don't have a Google account, you might have to create one.\n",
    "3. Login with your account\n",
    "4. At the Welcome screen, select the Upload tab and then upload this notebook file.\n",
    "5. If you miss the Welcome screen, at the Google Colab notebook view, you can go to:\n",
    "File -> Upload...\n",
    "6. After uploading the notebook, upload the data set `rock_properties.csv` file via the \"Files\" menu at the upper half\n",
    "of the edge of the Colab screen on the left-hand side. Another option is to upload it using Colab's library. For that,\n",
    "enter the following in a code cell:\n",
    "```python\n",
    "from google.colab import files\n",
    "uploaded = files.upload()\n",
    "```\n",
    "Then run the cell and select the CSV file to upload using the \"Choose file\" button which will show up under the cell.\n",
    "\n",
    "You are now all set to run this notebook."
   ]
  },
  {
   "cell_type": "code",
   "execution_count": 1,
   "metadata": {
    "pycharm": {
     "name": "#%%\n"
    }
   },
   "outputs": [],
   "source": [
    "import torch\n",
    "from torch import nn\n",
    "import pandas as pd\n",
    "import matplotlib.pyplot as plt\n",
    "from tqdm import trange\n",
    "\n",
    "plt.rcParams['figure.facecolor'] = 'white'\n",
    "%matplotlib inline"
   ]
  },
  {
   "cell_type": "code",
   "execution_count": 2,
   "metadata": {
    "pycharm": {
     "name": "#%%\n"
    }
   },
   "outputs": [],
   "source": [
    "# A helper function to train a neural network\n",
    "\n",
    "def train(model: nn.Module, x: torch.Tensor, y: torch.Tensor,\n",
    "          n_it=1000, lr=1e-2, weight_decay=0, verbose=True):\n",
    "    \"\"\"\n",
    "    This is a helper function to train a neural network model.\n",
    "\n",
    "    :param model: PyTorch `nn.Module` neural network model\n",
    "    :param x: matrix of training points, one per row\n",
    "    :param y: array of training labels\n",
    "    :param n_it: number of iterations to run gradient descent for\n",
    "    :param lr: learning rate\n",
    "    :param weight_decay: regularisation factor, a small value (e.g. `1e-4`). Default: 0.\n",
    "    :param verbose: if set to `True` the function will print a progress bar on the screen\n",
    "    :return: an array recording the loss function values during the training\n",
    "    \"\"\"\n",
    "    loss_fn = nn.MSELoss()\n",
    "    opt = torch.optim.Adam(model.parameters(), lr=lr, weight_decay=weight_decay)\n",
    "    train_losses = torch.zeros(n_it)\n",
    "    iterator = trange(n_it) if verbose else range(n_it)\n",
    "    for t in iterator:\n",
    "        opt.zero_grad()\n",
    "        loss = loss_fn(model(x), y.view(-1, 1))\n",
    "        train_losses[t] = loss.detach()\n",
    "        loss.backward()\n",
    "        opt.step()\n",
    "        if verbose:\n",
    "            iterator.set_postfix(loss=loss.item())\n",
    "    return train_losses"
   ]
  },
  {
   "cell_type": "markdown",
   "metadata": {
    "pycharm": {
     "name": "#%% md\n"
    }
   },
   "source": [
    "# Regression problem\n",
    "\n",
    "We will continue working with the rock properties dataset from the tutorial.\n",
    "This time we will use a neural network to infer the relationship between the porosity and the density of a rock.\n",
    "\n",
    "Recall that for regression, we predict continuous variables. For this we then need to use a"
   ]
  },
  {
   "cell_type": "markdown",
   "metadata": {
    "pycharm": {
     "name": "#%% md\n"
    }
   },
   "source": [
    "## Rock data"
   ]
  },
  {
   "cell_type": "code",
   "execution_count": 3,
   "metadata": {
    "pycharm": {
     "name": "#%%\n"
    }
   },
   "outputs": [],
   "source": [
    "dataset = pd.read_csv(\"rock_properties.csv\")"
   ]
  },
  {
   "cell_type": "code",
   "execution_count": 4,
   "metadata": {
    "pycharm": {
     "name": "#%%\n"
    }
   },
   "outputs": [],
   "source": [
    "lith_group = dataset['lith_group']\n",
    "\n",
    "target_group = 'felsic intrusive'\n",
    "covariate = 'porosity_a'\n",
    "n_data_dim = 1\n",
    "\n",
    "response = 'density_db'\n",
    "\n",
    "data_targets = torch.from_numpy(dataset[lith_group == target_group][response].to_numpy()).float()\n",
    "\n",
    "data_points = torch.from_numpy(dataset[lith_group == target_group][covariate].to_numpy()).float()\n",
    "n_data_entries = data_targets.shape[0]\n",
    "\n",
    "\n",
    "# Shuffle data\n",
    "data_shuffled_idx = torch.randperm(n_data_entries).numpy()\n",
    "data_targets = data_targets[data_shuffled_idx]\n",
    "data_points = data_points[data_shuffled_idx]\n",
    "\n",
    "# Split training and test sets\n",
    "train_frac = 0.8\n",
    "n_train = int(train_frac * n_data_entries)\n",
    "train_points = data_points[:n_train, None]\n",
    "train_targets = data_targets[:n_train]\n",
    "test_points = data_points[n_train:, None]\n",
    "test_targets = data_targets[n_train:]"
   ]
  },
  {
   "cell_type": "code",
   "execution_count": 5,
   "metadata": {
    "pycharm": {
     "name": "#%%\n"
    }
   },
   "outputs": [
    {
     "data": {
      "text/plain": [
       "Text(0.5, 1.0, 'Training data')"
      ]
     },
     "execution_count": 5,
     "metadata": {},
     "output_type": "execute_result"
    },
    {
     "data": {
      "image/png": "[encoded data removed]",
      "text/plain": [
       "<Figure size 432x288 with 1 Axes>"
      ]
     },
     "metadata": {
      "needs_background": "light"
     },
     "output_type": "display_data"
    }
   ],
   "source": [
    "plt.plot(train_points, train_targets, 'k+')\n",
    "plt.xlabel(covariate)\n",
    "plt.ylabel(response)\n",
    "plt.title(\"Training data\")"
   ]
  },
  {
   "cell_type": "markdown",
   "metadata": {
    "pycharm": {
     "name": "#%% md\n"
    }
   },
   "source": [
    "<b>Problem</b>: Implement and train a neural network model with PyTorch to learn a regression model with the data above.\n",
    "Feel free to use any combination of layers and activation functions. You are also allowed to use the `train()` function.\n",
    "After training, test the model on the test data\n",
    "as given above."
   ]
  },
  {
   "cell_type": "code",
   "execution_count": 24,
   "metadata": {},
   "outputs": [],
   "source": [
    "from typing import List\n",
    "class MLP(nn.Module):\n",
    "    def __init__(self, n_input: int, n_output: int, n_hidden: List[int]) -> None:\n",
    "        super().__init__()\n",
    "\n",
    "        # Input Layer\n",
    "        self.input_layer = nn.Linear(n_input, n_hidden[0])\n",
    "\n",
    "        # Hidden Layers\n",
    "        self.hidden_layers = nn.Sequential(\n",
    "            *[\n",
    "                nn.Linear(n_hidden[i], n_hidden[i + 1]) \n",
    "                    for i in range(len(n_hidden) - 1)\n",
    "            ]            \n",
    "        )\n",
    "\n",
    "        # Output Layer\n",
    "        self.output = nn.Linear(n_hidden[-1], n_output)\n",
    "\n",
    "        # Activation\n",
    "        self.relu = nn.ReLU()\n",
    "\n",
    "    def forward(self, x: torch.Tensor) -> torch.Tensor:\n",
    "        #  Input layer with relu activation\n",
    "        x = self.relu(self.input_layer(x))\n",
    "\n",
    "        # Hidden layers with relu activation\n",
    "        x = self.relu(self.hidden_layers(x))\n",
    "\n",
    "        # Output\n",
    "        x = self.output(x)\n",
    "        \n",
    "        return x"
   ]
  },
  {
   "cell_type": "code",
   "execution_count": 34,
   "metadata": {
    "pycharm": {
     "name": "#%%\n"
    }
   },
   "outputs": [
    {
     "name": "stderr",
     "output_type": "stream",
     "text": [
      "100%|██████████| 1000/1000 [00:02<00:00, 475.95it/s, loss=0.0181]\n"
     ]
    }
   ],
   "source": [
    "# MLP model topology\n",
    "n_input = n_data_dim\n",
    "n_hidden = [5, 5]\n",
    "n_output = 1\n",
    "\n",
    "# TODO: Implement your multi-layer perceptron model here.\n",
    "mlp = MLP(n_input, n_output, n_hidden) \n",
    "\n",
    "# TODO: Train your network\n",
    "X_train = train_points\n",
    "y_train = train_targets\n",
    "\n",
    "train_losses = train(\n",
    "    model=mlp,\n",
    "    x=X_train, y=y_train,\n",
    "    n_it=1000,\n",
    "    lr=1e-2\n",
    ")"
   ]
  },
  {
   "cell_type": "code",
   "execution_count": 35,
   "metadata": {
    "pycharm": {
     "name": "#%%\n"
    }
   },
   "outputs": [],
   "source": [
    "def plot_predictions_on_test_set(model: nn.Module):\n",
    "    # Code to plot the predictions of the model\n",
    "    with torch.no_grad():\n",
    "        plt.plot(test_points, mlp(test_points).view(-1), 'b+', label=\"Predictions\")\n",
    "        plt.plot(test_points, test_targets.view(-1), 'k+', label=\"True values\")\n",
    "        plt.legend()\n",
    "        plt.xlabel(\"Porosity\")"
   ]
  },
  {
   "cell_type": "code",
   "execution_count": 36,
   "metadata": {
    "pycharm": {
     "name": "#%%\n"
    }
   },
   "outputs": [],
   "source": [
    "def compute_test_loss(model: nn.Module):\n",
    "    # Code to compute the mean squared-error loss on the test set\n",
    "    with torch.no_grad():\n",
    "        loss = (model(test_points).view_as(test_targets) - test_targets).pow(2).mean()\n",
    "    return loss"
   ]
  },
  {
   "cell_type": "code",
   "execution_count": 37,
   "metadata": {
    "pycharm": {
     "name": "#%%\n"
    }
   },
   "outputs": [
    {
     "data": {
      "image/png": "[encoded data removed]",
      "text/plain": [
       "<Figure size 432x288 with 1 Axes>"
      ]
     },
     "metadata": {
      "needs_background": "light"
     },
     "output_type": "display_data"
    }
   ],
   "source": [
    "# Plot predicitons\n",
    "plot_predictions_on_test_set(mlp)"
   ]
  },
  {
   "cell_type": "code",
   "execution_count": 38,
   "metadata": {
    "pycharm": {
     "name": "#%%\n"
    }
   },
   "outputs": [
    {
     "name": "stdout",
     "output_type": "stream",
     "text": [
      "Test MSE: 0.005753733683377504\n"
     ]
    }
   ],
   "source": [
    "# Compute mean squared error on test set\n",
    "test_loss = compute_test_loss(mlp)\n",
    "print(f\"Test MSE: {test_loss}\")"
   ]
  }
 ],
 "metadata": {
  "kernelspec": {
   "display_name": "Python 3",
   "language": "python",
   "name": "python3"
  },
  "language_info": {
   "codemirror_mode": {
    "name": "ipython",
    "version": 3
   },
   "file_extension": ".py",
   "mimetype": "text/x-python",
   "name": "python",
   "nbconvert_exporter": "python",
   "pygments_lexer": "ipython3",
   "version": "3.8.12"
  }
 },
 "nbformat": 4,
 "nbformat_minor": 1
}

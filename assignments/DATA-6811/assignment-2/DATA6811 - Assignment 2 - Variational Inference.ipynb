{
 "cells": [
  {
   "cell_type": "markdown",
   "metadata": {},
   "source": [
    "# Variational inference assignment\n",
    "\n",
    "In this assignment, we are going to implement variational inference on a synthetic problem.\n",
    "\n",
    "\n",
    "## Software setup\n",
    "This assignment will be run in Python 3, and we might need to install a few Python packages.\n",
    "To avoid interference with other system packages, we basically have two alternatives.\n",
    "We can setup a virtual environment with tools like `virtualenv` or `anaconda`.\n",
    "Alternatively, we can use online Python interpreters, like Google Colab.\n",
    "\n",
    "If you decide to use [Google Colab](https://colab.research.google.com), you may follow these instructions.\n",
    "\n",
    "<b>Instructions:</b>\n",
    "1. Head to Google Colab at: https://colab.research.google.com\n",
    "2. If you do not have a Google account, you might have to create one.\n",
    "3. Login with your account\n",
    "4. At the Welcome screen, select the Upload tab and then upload this notebook file.\n",
    "5. If you miss the Welcome screen, at the Google Colab notebook view, you can go to:\n",
    "File -> Upload..."
   ]
  },
  {
   "cell_type": "code",
   "execution_count": 1,
   "metadata": {
    "pycharm": {
     "name": "#%%\n"
    }
   },
   "outputs": [],
   "source": [
    "import torch    # PyTorch: for linear algebra operations and automatic differentiation\n",
    "import torch.distributions as td    # PyTorch's probability distributions package\n",
    "import matplotlib.pyplot as plt     # Matplotlib's Python plotting package\n",
    "from tqdm.notebook import trange    # progress bars\n",
    "import numpy as np"
   ]
  },
  {
   "cell_type": "code",
   "execution_count": 2,
   "metadata": {
    "pycharm": {
     "name": "#%%\n"
    }
   },
   "outputs": [],
   "source": [
    "# Auxiliary function for plotting\n",
    "\n",
    "def make_grid(x_lb, x_ub, sx, y_lb=None, y_ub=None, sy=None, centred=True):\n",
    "    \"\"\"\n",
    "    Auxiliary function to create a regular 2D spatial grid to plot predictions\n",
    "    \"\"\"\n",
    "    if y_lb is None:\n",
    "        y_lb = x_lb\n",
    "    if y_ub is None:\n",
    "        y_ub = x_ub\n",
    "    if sy is None:\n",
    "        sy = sx\n",
    "\n",
    "    xs, ys = np.mgrid[x_lb:x_ub:sx, y_lb:y_ub:sy].astype('float')\n",
    "    if centred:\n",
    "        xs += 0.5 * sx\n",
    "        ys += 0.5 * sy\n",
    "    np_array = np.vstack((xs.ravel(), ys.ravel())).T\n",
    "\n",
    "    return torch.tensor(np_array, dtype=torch.get_default_dtype())"
   ]
  },
  {
   "cell_type": "markdown",
   "metadata": {
    "pycharm": {
     "name": "#%% md\n"
    }
   },
   "source": [
    "## Problem setting\n",
    "Given a log-likelihood and a log-prior probability density, your task is to estimate a multivariate Gaussian\n",
    "approximation to the posterior via variational inference.\n",
    "The log-likelihood for this assignment is Rosenbrock's banana shape function on a 2-dimensional space."
   ]
  },
  {
   "cell_type": "code",
   "execution_count": 3,
   "metadata": {
    "pycharm": {
     "name": "#%%\n"
    }
   },
   "outputs": [],
   "source": [
    "def log_likelihood(x: torch.Tensor):\n",
    "    \"\"\"\n",
    "    Log-likelihood function\n",
    "\n",
    "    :param x: a S-by-2 matrix, where S represents the number of samples\n",
    "    :return: a S-array with the log-likelihood value for each sample\n",
    "    \"\"\"\n",
    "    assert len(x.shape) == 2, \"x must be a 2D array\"\n",
    "    assert x.shape[1] == 2, \"x must have 2 columns, one for each coordinate\"\n",
    "    return -((x[:,0]**2 - x[:,1])**2 + (x[:,0] - 1)**2)"
   ]
  },
  {
   "cell_type": "code",
   "execution_count": 4,
   "metadata": {
    "pycharm": {
     "name": "#%%\n"
    }
   },
   "outputs": [],
   "source": [
    "# Plotting grid\n",
    "\n",
    "x_lb = -10\n",
    "x_ub = 10\n",
    "y_lb = -10\n",
    "y_ub = 15\n",
    "\n",
    "spacing = 0.05\n",
    "\n",
    "vis_x = make_grid(x_lb, x_ub, spacing, y_lb, y_ub, spacing).cpu()\n",
    "nx = int((x_ub-x_lb)/spacing)\n",
    "ny = int((y_ub-y_lb)/spacing)"
   ]
  },
  {
   "cell_type": "code",
   "execution_count": 5,
   "metadata": {
    "pycharm": {
     "name": "#%%\n"
    }
   },
   "outputs": [],
   "source": [
    "vis_log_like = log_likelihood(vis_x)"
   ]
  },
  {
   "cell_type": "code",
   "execution_count": 6,
   "metadata": {
    "pycharm": {
     "name": "#%%\n"
    }
   },
   "outputs": [
    {
     "data": {
      "text/plain": [
       "Text(0.5, 1.0, 'Log-likelihood')"
      ]
     },
     "execution_count": 6,
     "metadata": {},
     "output_type": "execute_result"
    },
    {
     "data": {
      "image/png": "[encoded data removed]",
      "text/plain": [
       "<Figure size 432x288 with 2 Axes>"
      ]
     },
     "metadata": {
      "needs_background": "light"
     },
     "output_type": "display_data"
    }
   ],
   "source": [
    "extent=[x_lb, x_ub, y_lb, y_ub]\n",
    "plt.imshow(vis_log_like.reshape(nx, ny).t(), origin='lower', vmax=0, vmin=-100, extent=extent)\n",
    "plt.colorbar()\n",
    "plt.title(\"Log-likelihood\")"
   ]
  },
  {
   "cell_type": "markdown",
   "metadata": {
    "pycharm": {
     "name": "#%% md\n"
    }
   },
   "source": [
    "<b>Prior:</b> As a prior, we will use a normal distribution."
   ]
  },
  {
   "cell_type": "code",
   "execution_count": 7,
   "metadata": {
    "pycharm": {
     "name": "#%%\n"
    }
   },
   "outputs": [],
   "source": [
    "def log_prior(x):\n",
    "    \"\"\"\n",
    "    Log prior probability density\n",
    "\n",
    "    :param x: a S-by-2 matrix, where S represents the number of samples\n",
    "    :return: a S-array with the log-probability density for each sample\n",
    "    \"\"\"\n",
    "    assert len(x.shape) == 2, \"x must be a 2D array\"\n",
    "    assert x.shape[1] == 2, \"x must have 2 columns, one for each coordinate\"\n",
    "    return td.Normal(0, 4).log_prob(x).sum(dim=1)"
   ]
  },
  {
   "cell_type": "code",
   "execution_count": 8,
   "metadata": {
    "pycharm": {
     "name": "#%%\n"
    }
   },
   "outputs": [
    {
     "data": {
      "text/plain": [
       "Text(0.5, 1.0, 'Unnormalised log-posterior probability density')"
      ]
     },
     "execution_count": 8,
     "metadata": {},
     "output_type": "execute_result"
    },
    {
     "data": {
      "image/png": "[encoded data removed]",
      "text/plain": [
       "<Figure size 432x288 with 2 Axes>"
      ]
     },
     "metadata": {
      "needs_background": "light"
     },
     "output_type": "display_data"
    }
   ],
   "source": [
    "vis_log_prior = log_prior(vis_x)\n",
    "\n",
    "plt.imshow(vis_log_like.reshape(nx, ny).t()+vis_log_prior.reshape(nx, ny).t(), origin='lower', vmax=0, vmin=-30, extent=extent)\n",
    "plt.colorbar()\n",
    "plt.title(\"Unnormalised log-posterior probability density\")"
   ]
  },
  {
   "cell_type": "markdown",
   "metadata": {
    "pycharm": {
     "name": "#%% md\n"
    }
   },
   "source": [
    "<b>Task:</b> The task now is to implement and run variational inference using a multivariate normal as the variational\n",
    " distribution. The mean and covariance matrix of the variational distribution are to be optimised using PyTorch.\n",
    " You are allowed to reuse code from the tutorials.\n",
    " However, note that this is a 2-dimensional, instead of the unidimensional toy problem we had.\n",
    "\n",
    "<b>Hint:</b> PyTorch provides `td.MultivariateNormal` and `td.Normal` as implementations of multivariate and univariate,\n",
    "respectively, Gaussian distributions.\n",
    "A parameter to give attention to is the covariance matrix $\\Sigma$, which needs to be positive-definite.\n",
    "There are a few ways to parameterise it with varying degrees of freedom.\n",
    "To avoid further complications, for this assignment, you are allowed to simply use a single variational parameter\n",
    "$c \\in \\mathbb{R}$ to parameterise the covariance matrix as:\n",
    "\n",
    "\\begin{equation*}\n",
    "\\Sigma := \\exp(c)\\mathbf{I}\\,,\n",
    "\\end{equation*}\n",
    "\n",
    "where the exponentiation ensures the matrix is positive-definite."
   ]
  },
  {
   "cell_type": "code",
   "execution_count": 10,
   "metadata": {
    "pycharm": {
     "name": "#%%\n"
    }
   },
   "outputs": [],
   "source": [
    "#TODO: Implement ELBO computation and training loop\n",
    "\n",
    "v_dist = #TODO: your final estimate for the variational distribution"
   ]
  },
  {
   "cell_type": "markdown",
   "metadata": {
    "pycharm": {
     "name": "#%% md\n"
    }
   },
   "source": [
    "After estimating the variational distribution as `v_dist`,\n",
    "run the following cell to compare the approximation with the unnormalised posterior."
   ]
  },
  {
   "cell_type": "code",
   "execution_count": 12,
   "metadata": {
    "pycharm": {
     "name": "#%%\n"
    }
   },
   "outputs": [],
   "source": [
    "plt.figure(figsize=(12,4))\n",
    "with torch.no_grad():\n",
    "    vis_variational = v_dist.log_prob(vis_x)\n",
    "plt.subplot(121)\n",
    "plt.imshow(vis_log_like.reshape(nx, ny).t()+vis_log_prior.reshape(nx, ny).t(), origin='lower',\n",
    "            vmax=0, vmin=-20, extent=extent)\n",
    "plt.colorbar()\n",
    "plt.title(\"Unnormalised log-posterior\")\n",
    "\n",
    "plt.subplot(122)\n",
    "plt.imshow(vis_variational.reshape(nx, ny).t(), origin='lower', vmax=0, vmin=-20,\n",
    "            extent=extent)\n",
    "plt.colorbar()\n",
    "plt.title(\"Variational approximation\")"
   ]
  },
  {
   "cell_type": "code",
   "execution_count": null,
   "metadata": {
    "pycharm": {
     "name": "#%%\n"
    }
   },
   "outputs": [],
   "source": []
  }
 ],
 "metadata": {
  "kernelspec": {
   "display_name": "Python 3",
   "language": "python",
   "name": "python3"
  },
  "language_info": {
   "codemirror_mode": {
    "name": "ipython",
    "version": 3
   },
   "file_extension": ".py",
   "mimetype": "text/x-python",
   "name": "python",
   "nbconvert_exporter": "python",
   "pygments_lexer": "ipython3",
   "version": "3.9.7"
  }
 },
 "nbformat": 4,
 "nbformat_minor": 1
}

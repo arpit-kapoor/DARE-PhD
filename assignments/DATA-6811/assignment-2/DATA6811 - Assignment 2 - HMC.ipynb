{
 "cells": [
  {
   "cell_type": "markdown",
   "metadata": {
    "id": "zyflcqh8AppH"
   },
   "source": [
    "# MCMC/HMC Assignment\n",
    "\n",
    "Metropolis-adjusted Langevin algorithm (MALA) sampler, is a variation of  Metropolis–Hastings (MH) sampler where the proposal state is generated as follows:\n",
    "1. An auxiliary variable, $\\mathbf{r}:= (r_1, \\ldots, r_n)^\\top$,\n",
    "is drawn from an $n$ dimensional standard normal distribution where $n$ is the dimensinality of the target density function, $\\pi(\\mathbf{x})$:\n",
    "$$\\mathbf{r} \\sim \\mathcal{N}(\\mathbf{0}_n, \\mathbf{I}_{n\\times n})$$ \n",
    "2. The proposal vector, $\\mathbf{x}'$ is a deterministic function of the current state, $\\mathbf{x}$, and the auximilary vector, $\\mathbf{r}$:\n",
    "$$\n",
    "\\mathbf{x}' := \\mathbf{x} + \\frac{\\epsilon^2}{2} \\cdot \n",
    "\\frac{\\partial \\log \\left(\\pi(\\mathbf{x})\\right)}{\\partial \\mathbf{x}}\n",
    "+ \\epsilon \\cdot \\mathbf{r}\n",
    "$$\n",
    "where the step size, $\\epsilon$, is a tunable hyper-parameter. \n",
    "\n",
    "## Assigment\n",
    "(a) In this sampler, what is the MH proposal density fuction, $q(\\mathbf{x}' | \\mathbf{x})$?\n",
    "\n",
    "(b) Is the proposal distribution symmetric i.e. is $q(\\mathbf{x}' | \\mathbf{x})$ equal to $q(\\mathbf{x} | \\mathbf{x}')$?\n",
    "\n",
    "(c) Implement MALA sampler and use it to draw 10,000 samples from the experimental target density fuction $\\texttt{SimGaussianMixture}$.\n",
    "\n",
    "(d) Plot the samples. \n",
    "\n",
    "\n",
    "### 1. Target density models:  "
   ]
  },
  {
   "cell_type": "markdown",
   "metadata": {},
   "source": [
    "## Solution:\n",
    "(a) Let the the proposal $\\mathbf{x}'$ be written as,\n",
    "\n",
    "$$\\mathbf{x}' = \\bar{\\mathbf{x}} + \\epsilon \\cdot \\mathbf{r}$$\n",
    "\n",
    "where $\\mathbf{r} \\sim \\mathcal{N}(\\mathbf{0}_n, \\mathbf{I}_{n\\times n})$ and, \n",
    "\n",
    "$$\\bar{\\mathbf{x}}=\\mathbf{x} + \\mathbf{x} + \\frac{\\epsilon^2}{2} \\cdot \n",
    "\\frac{\\partial \\log \\left(\\pi(\\mathbf{x})\\right)}{\\partial \\mathbf{x}}\n",
    "$$\n",
    "\n",
    "We can say that,\n",
    "$$\\mathbf{x}' \\sim \\mathcal{N}(\\bar{\\mathbf{x}}, \\epsilon \\cdot \\mathbf{I}_{n\\times n})$$\n",
    "\n",
    "Therefore,\n",
    "\n",
    "$$q(\\mathbf{x}' | \\mathbf{x}) = \\frac{1}{\\sqrt{2 \\pi \\epsilon}} \\exp \\bigg[ -\\frac{(\\mathbf{x}' - \\bar{\\mathbf{x}})^2}{\\sqrt{2\\epsilon}}\\bigg]$$\n",
    "\n",
    "\n",
    "(b) No, the proposal distribution is not symmetric. Due to the addition of the gradient term the value of $q(\\mathbf{x}' | \\mathbf{x})$ is **NOT** equal to $q(\\mathbf{x} | \\mathbf{x}')$"
   ]
  },
  {
   "cell_type": "code",
   "execution_count": 4,
   "metadata": {
    "id": "hiNCLMVECRV9"
   },
   "outputs": [],
   "source": [
    "\"\"\"\n",
    "Created by Created by Hadi Afshar. \n",
    "03/03/21\n",
    "\"\"\"\n",
    "from __future__ import absolute_import\n",
    "from __future__ import division\n",
    "from __future__ import print_function\n",
    "\n",
    "from mpl_toolkits.mplot3d import Axes3D\n",
    "import matplotlib.pyplot as plt\n",
    "from matplotlib import cm\n",
    "from matplotlib.ticker import LinearLocator, FormatStrFormatter\n",
    "import collections\n",
    "import numpy as np\n",
    "import scipy.stats as stats\n",
    "from tqdm import tqdm\n",
    "\n",
    "class Model:\n",
    "    def u(self, x):\n",
    "        return -np.log(self.pr(x))\n",
    "\n",
    "    def pr(self, x):\n",
    "        raise  \n",
    "\n",
    "    def grad_u(self, x):\n",
    "        raise \n",
    "\n",
    "\n"
   ]
  },
  {
   "cell_type": "code",
   "execution_count": 5,
   "metadata": {
    "id": "_y3un8iV4bTZ"
   },
   "outputs": [],
   "source": [
    "class MultivariateNormal(Model):\n",
    "    def __init__(self, mean, variance):\n",
    "        self.mean = mean\n",
    "        self.dim = mean.shape[0]\n",
    "        self.variance = variance\n",
    "\n",
    "    def pr(self, x):\n",
    "        z = x - self.mean\n",
    "        return np.exp(-(1. / (2.0 * self.variance)) * z.dot(z))\n",
    "\n",
    "    def grad_u(self, x):\n",
    "        return (1./self.variance) * (x - self.mean) \n",
    "  \n",
    "\n",
    "class SimGaussianMixture(Model):\n",
    "    def __init__(self, O, radius, variance):\n",
    "        self.O = O\n",
    "        self.dim = O.shape[0]\n",
    "        self.variance = variance\n",
    "\n",
    "        self.centers = list()\n",
    "        for i in range(self.dim):\n",
    "            z = np.zeros(self.dim)\n",
    "            z[i] = radius\n",
    "            self.centers.append(MultivariateNormal(mean=O + z, variance=self.variance))\n",
    "            self.centers.append(MultivariateNormal(mean=O - z, variance=self.variance))\n",
    "\n",
    "    def pr(self, x):\n",
    "        out = 0\n",
    "        for c in self.centers:\n",
    "            out += c.pr(x)\n",
    "        return out / len(self.centers)\n",
    "\n",
    "    def grad_u(self, x):\n",
    "        out = 0\n",
    "        for c in self.centers:\n",
    "            out += c.grad_u(x)\n",
    "        return out\n",
    "\n"
   ]
  },
  {
   "cell_type": "markdown",
   "metadata": {
    "id": "PZkvUXBPHH2E"
   },
   "source": [
    "### 2. MALA sampler\n",
    "Complete the following code\n"
   ]
  },
  {
   "cell_type": "code",
   "execution_count": 6,
   "metadata": {
    "id": "ezopXoPvH0Ru"
   },
   "outputs": [],
   "source": [
    "class Sampler(object):\n",
    "    def generate_sample(self, current_sample):\n",
    "        raise\n",
    "\n",
    "\n",
    "class MalaSampler(Sampler):\n",
    "    def __init__(self, model, epsilon):\n",
    "        self.model = model\n",
    "        self.epsilon = epsilon\n",
    "\n",
    "    def logq(self, x, x_bar):\n",
    "        return stats.multivariate_normal(x_bar, cov=self.epsilon*np.eye(len(x))).logpdf(x)\n",
    "\n",
    "    def generate_sample(self, current_x):\n",
    "        ## you should complete this part... \n",
    "        ## by computing the MH log acceptance probability according to MALA proposal density\n",
    "        \n",
    "        # TODO\n",
    "        r = np.random.randn(current_x.shape[0])\n",
    "        current_x_bar = current_x + 0.5 * np.power(self.epsilon, 2) * self.model.grad_u(current_x) \n",
    "\n",
    "        proposal_x = current_x_bar + self.epsilon * r\n",
    "        proposal_x_bar = proposal_x + 0.5 * np.power(self.epsilon, 2) * self.model.grad_u(proposal_x) \n",
    "\n",
    "        # Evaluate acceptance prob\n",
    "        delta_logp = -(self.model.u(proposal_x) - self.model.u(current_x))\n",
    "        \n",
    "        delta_logq = self.logq(current_x, proposal_x_bar) - self.logq(proposal_x, current_x_bar)\n",
    "\n",
    "        log_accept = min(1, np.exp(delta_logp + delta_logq))\n",
    "\n",
    "        if np.random.uniform(low=0, high=1) < np.exp(log_accept):\n",
    "            return proposal_x\n",
    "        else:\n",
    "            return current_x\n",
    "\n"
   ]
  },
  {
   "cell_type": "code",
   "execution_count": null,
   "metadata": {
    "id": "xOx-lhozDHwZ"
   },
   "outputs": [],
   "source": []
  },
  {
   "cell_type": "markdown",
   "metadata": {
    "id": "uevRNgMBJp-4"
   },
   "source": [
    "The following code can be used to draw samples using MalaSampler and plotting them:"
   ]
  },
  {
   "cell_type": "code",
   "execution_count": 7,
   "metadata": {
    "id": "WLamdMzGJx3I"
   },
   "outputs": [],
   "source": [
    "def generate_samples(sampler, init_sample, number_of_samples):\n",
    "    current_sample = init_sample\n",
    "    dim = current_sample.shape[0]\n",
    "\n",
    "    samples = np.zeros(shape=(number_of_samples, dim), dtype=float)\n",
    "\n",
    "    for sample_id in tqdm(range(0, number_of_samples)):\n",
    "        current_sample = sampler.generate_sample(current_sample)\n",
    "        samples[sample_id] = current_sample\n",
    "\n",
    "    return samples\n",
    "\n",
    "def plot_samples():\n",
    "    B = 3\n",
    "    C = 0.1  \n",
    "    dim = 2\n",
    "    x, y = np.mgrid[-B:B:C, -B:B:C]\n",
    "\n",
    "    # model = MultivariateNormal(mean=np.array([0.0, 0.0]), variance=1.)\n",
    "    model = SimGaussianMixture(O=np.zeros(dim), radius=1.0, variance=0.5)\n",
    "\n",
    "\n",
    "    @np.vectorize\n",
    "    def func(x, y):\n",
    "        a = np.zeros(dim)\n",
    "        a[0] = x\n",
    "        a[1] = y\n",
    "        return model.pr(a)\n",
    "\n",
    "\n",
    "    z = func(x, y)\n",
    "\n",
    "    fig = plt.figure(figsize=(8, 8))\n",
    "    ax = fig.add_subplot(111)\n",
    "    ax.contourf(x, y, z)\n",
    "\n",
    "    sampler = MalaSampler(model=model, epsilon=0.1)\n",
    "    samples = generate_samples(sampler=sampler, init_sample=np.ones(dim), number_of_samples=10000)\n",
    "\n",
    "    # omit samples that are outside the mesh\n",
    "    for i in range(samples.shape[0]):\n",
    "        x = samples[i][0]\n",
    "        y = samples[i][1]\n",
    "        if x > B or y > B or x < -B or y < -B:\n",
    "            samples[i] = None\n",
    "\n",
    "    ax.scatter(x=samples[:, 0], y=samples[:, 1], color='black', marker='.', alpha=0.1)\n",
    "\n",
    "    plt.show()\n",
    "\n"
   ]
  },
  {
   "cell_type": "code",
   "execution_count": 8,
   "metadata": {},
   "outputs": [
    {
     "name": "stderr",
     "output_type": "stream",
     "text": [
      "  0%|          | 0/10000 [00:00<?, ?it/s]/tmp/ipykernel_4156/2758388065.py:20: RuntimeWarning: divide by zero encountered in log\n",
      "  return -np.log(self.pr(x))\n",
      "/tmp/ipykernel_4156/1439430665.py:26: RuntimeWarning: invalid value encountered in double_scalars\n",
      "  delta_logp = -(self.model.u(proposal_x) - self.model.u(current_x))\n",
      " 90%|████████▉ | 8975/10000 [00:05<00:00, 1675.65it/s]/home/arpitk/miniconda3/envs/std/lib/python3.9/site-packages/numpy/core/fromnumeric.py:86: RuntimeWarning: overflow encountered in reduce\n",
      "  return ufunc.reduce(obj, axis, dtype, out, **passkwargs)\n",
      "/home/arpitk/miniconda3/envs/std/lib/python3.9/site-packages/scipy/stats/_multivariate.py:467: RuntimeWarning: overflow encountered in square\n",
      "  maha = np.sum(np.square(np.dot(dev, prec_U)), axis=-1)\n",
      "100%|██████████| 10000/10000 [00:06<00:00, 1660.43it/s]\n"
     ]
    },
    {
     "data": {
      "image/png": "[encoded data removed]",
      "text/plain": [
       "<Figure size 576x576 with 1 Axes>"
      ]
     },
     "metadata": {
      "needs_background": "light"
     },
     "output_type": "display_data"
    }
   ],
   "source": [
    "plot_samples()"
   ]
  },
  {
   "cell_type": "code",
   "execution_count": null,
   "metadata": {},
   "outputs": [],
   "source": []
  },
  {
   "cell_type": "code",
   "execution_count": null,
   "metadata": {},
   "outputs": [],
   "source": []
  }
 ],
 "metadata": {
  "colab": {
   "collapsed_sections": [],
   "name": "HMC_Assignment.ipynb",
   "provenance": []
  },
  "kernelspec": {
   "display_name": "Python 3",
   "language": "python",
   "name": "python3"
  },
  "language_info": {
   "codemirror_mode": {
    "name": "ipython",
    "version": 3
   },
   "file_extension": ".py",
   "mimetype": "text/x-python",
   "name": "python",
   "nbconvert_exporter": "python",
   "pygments_lexer": "ipython3",
   "version": "3.9.5"
  }
 },
 "nbformat": 4,
 "nbformat_minor": 1
}

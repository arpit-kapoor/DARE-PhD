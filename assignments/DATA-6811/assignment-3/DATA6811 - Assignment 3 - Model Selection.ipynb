{
 "cells": [
  {
   "cell_type": "markdown",
   "metadata": {},
   "source": [
    "# DATA6811 - Assignment 3 - Model Selection and Averaging"
   ]
  },
  {
   "cell_type": "code",
   "execution_count": 2,
   "metadata": {},
   "outputs": [],
   "source": [
    "import pandas as pd\n",
    "import numpy as np"
   ]
  },
  {
   "cell_type": "markdown",
   "metadata": {},
   "source": [
    "### (a) Find the best value of $\\lambda$ for given Lasso Regression\n",
    "\n",
    "Given Lasso Regression results as below, we will use BIC to identify the best value of $\\lambda$ among these values"
   ]
  },
  {
   "cell_type": "code",
   "execution_count": 7,
   "metadata": {},
   "outputs": [
    {
     "data": {
      "text/html": [
       "<div>\n",
       "<style scoped>\n",
       "    .dataframe tbody tr th:only-of-type {\n",
       "        vertical-align: middle;\n",
       "    }\n",
       "\n",
       "    .dataframe tbody tr th {\n",
       "        vertical-align: top;\n",
       "    }\n",
       "\n",
       "    .dataframe thead th {\n",
       "        text-align: right;\n",
       "    }\n",
       "</style>\n",
       "<table border=\"1\" class=\"dataframe\">\n",
       "  <thead>\n",
       "    <tr style=\"text-align: right;\">\n",
       "      <th></th>\n",
       "      <th>λ</th>\n",
       "      <th>df</th>\n",
       "      <th>σ̂^2</th>\n",
       "    </tr>\n",
       "  </thead>\n",
       "  <tbody>\n",
       "    <tr>\n",
       "      <th>0</th>\n",
       "      <td>0.0</td>\n",
       "      <td>8</td>\n",
       "      <td>0.9033</td>\n",
       "    </tr>\n",
       "    <tr>\n",
       "      <th>1</th>\n",
       "      <td>0.1</td>\n",
       "      <td>5</td>\n",
       "      <td>0.8116</td>\n",
       "    </tr>\n",
       "    <tr>\n",
       "      <th>2</th>\n",
       "      <td>0.2</td>\n",
       "      <td>3</td>\n",
       "      <td>1.8865</td>\n",
       "    </tr>\n",
       "    <tr>\n",
       "      <th>3</th>\n",
       "      <td>0.3</td>\n",
       "      <td>3</td>\n",
       "      <td>4.1080</td>\n",
       "    </tr>\n",
       "    <tr>\n",
       "      <th>4</th>\n",
       "      <td>0.4</td>\n",
       "      <td>2</td>\n",
       "      <td>4.6396</td>\n",
       "    </tr>\n",
       "    <tr>\n",
       "      <th>5</th>\n",
       "      <td>0.5</td>\n",
       "      <td>1</td>\n",
       "      <td>5.1962</td>\n",
       "    </tr>\n",
       "    <tr>\n",
       "      <th>6</th>\n",
       "      <td>0.6</td>\n",
       "      <td>1</td>\n",
       "      <td>5.7991</td>\n",
       "    </tr>\n",
       "    <tr>\n",
       "      <th>7</th>\n",
       "      <td>0.7</td>\n",
       "      <td>1</td>\n",
       "      <td>6.4485</td>\n",
       "    </tr>\n",
       "    <tr>\n",
       "      <th>8</th>\n",
       "      <td>0.8</td>\n",
       "      <td>1</td>\n",
       "      <td>7.1444</td>\n",
       "    </tr>\n",
       "    <tr>\n",
       "      <th>9</th>\n",
       "      <td>0.9</td>\n",
       "      <td>0</td>\n",
       "      <td>7.4611</td>\n",
       "    </tr>\n",
       "  </tbody>\n",
       "</table>\n",
       "</div>"
      ],
      "text/plain": [
       "     λ  df    σ̂^2\n",
       "0  0.0   8  0.9033\n",
       "1  0.1   5  0.8116\n",
       "2  0.2   3  1.8865\n",
       "3  0.3   3  4.1080\n",
       "4  0.4   2  4.6396\n",
       "5  0.5   1  5.1962\n",
       "6  0.6   1  5.7991\n",
       "7  0.7   1  6.4485\n",
       "8  0.8   1  7.1444\n",
       "9  0.9   0  7.4611"
      ]
     },
     "execution_count": 7,
     "metadata": {},
     "output_type": "execute_result"
    }
   ],
   "source": [
    "model_selection_df = pd.DataFrame(\n",
    "    {\n",
    "        'λ': [0, 0.1, 0.2, 0.3, 0.4, 0.5, 0.6, 0.7, 0.8, 0.9],\n",
    "        'df' : [8, 5, 3, 3, 2, 1, 1, 1, 1, 0],\n",
    "        'σ̂^2': [0.9033, 0.8116, 1.8865, 4.1080, 4.6396, 5.1962, 5.7991, 6.4485, 7.1444, 7.4611]\n",
    "    }\n",
    ")\n",
    "model_selection_df"
   ]
  },
  {
   "cell_type": "markdown",
   "metadata": {},
   "source": [
    "### Bayesian Information Criterion (BIC)\n",
    "\n",
    "BIC for lasso regression can be computed as:\n",
    "\n",
    "$$BIC(\\lambda) = \\bigg(\\frac{||\\mathbf{y} - \\mathbf{X}\\hat\\beta^{lasso}_\\lambda ||^2}{n}\\bigg) + {df}_\\lambda \\frac{\\log(n)}{n}$$\n",
    "\n",
    "We are given that, \n",
    "\n",
    "$$\\hat\\sigma_{\\lambda}^2 = \\bigg(\\frac{||\\mathbf{y} - \\mathbf{X}\\hat\\beta^{lasso}_\\lambda ||^2}{n}\\bigg)$$\n",
    "\n",
    "So, the formulation can be updated as,\n",
    "\n",
    "$$BIC(\\lambda) = \\hat\\sigma_{\\lambda}^2 + {df}_\\lambda \\frac{\\log(n)}{n}$$"
   ]
  },
  {
   "cell_type": "code",
   "execution_count": 10,
   "metadata": {
    "scrolled": true
   },
   "outputs": [
    {
     "data": {
      "text/html": [
       "<div>\n",
       "<style scoped>\n",
       "    .dataframe tbody tr th:only-of-type {\n",
       "        vertical-align: middle;\n",
       "    }\n",
       "\n",
       "    .dataframe tbody tr th {\n",
       "        vertical-align: top;\n",
       "    }\n",
       "\n",
       "    .dataframe thead th {\n",
       "        text-align: right;\n",
       "    }\n",
       "</style>\n",
       "<table border=\"1\" class=\"dataframe\">\n",
       "  <thead>\n",
       "    <tr style=\"text-align: right;\">\n",
       "      <th></th>\n",
       "      <th>λ</th>\n",
       "      <th>df</th>\n",
       "      <th>σ̂^2</th>\n",
       "      <th>BIC</th>\n",
       "    </tr>\n",
       "  </thead>\n",
       "  <tbody>\n",
       "    <tr>\n",
       "      <th>0</th>\n",
       "      <td>0.0</td>\n",
       "      <td>8</td>\n",
       "      <td>0.9033</td>\n",
       "      <td>0.275595</td>\n",
       "    </tr>\n",
       "    <tr>\n",
       "      <th>1</th>\n",
       "      <td>0.1</td>\n",
       "      <td>5</td>\n",
       "      <td>0.8116</td>\n",
       "      <td>0.027062</td>\n",
       "    </tr>\n",
       "    <tr>\n",
       "      <th>2</th>\n",
       "      <td>0.2</td>\n",
       "      <td>3</td>\n",
       "      <td>1.8865</td>\n",
       "      <td>0.776209</td>\n",
       "    </tr>\n",
       "    <tr>\n",
       "      <th>3</th>\n",
       "      <td>0.3</td>\n",
       "      <td>3</td>\n",
       "      <td>4.1080</td>\n",
       "      <td>1.554422</td>\n",
       "    </tr>\n",
       "    <tr>\n",
       "      <th>4</th>\n",
       "      <td>0.4</td>\n",
       "      <td>2</td>\n",
       "      <td>4.6396</td>\n",
       "      <td>1.628952</td>\n",
       "    </tr>\n",
       "    <tr>\n",
       "      <th>5</th>\n",
       "      <td>0.5</td>\n",
       "      <td>1</td>\n",
       "      <td>5.1962</td>\n",
       "      <td>1.695090</td>\n",
       "    </tr>\n",
       "    <tr>\n",
       "      <th>6</th>\n",
       "      <td>0.6</td>\n",
       "      <td>1</td>\n",
       "      <td>5.7991</td>\n",
       "      <td>1.804865</td>\n",
       "    </tr>\n",
       "    <tr>\n",
       "      <th>7</th>\n",
       "      <td>0.7</td>\n",
       "      <td>1</td>\n",
       "      <td>6.4485</td>\n",
       "      <td>1.911010</td>\n",
       "    </tr>\n",
       "    <tr>\n",
       "      <th>8</th>\n",
       "      <td>0.8</td>\n",
       "      <td>1</td>\n",
       "      <td>7.1444</td>\n",
       "      <td>2.013491</td>\n",
       "    </tr>\n",
       "    <tr>\n",
       "      <th>9</th>\n",
       "      <td>0.9</td>\n",
       "      <td>0</td>\n",
       "      <td>7.4611</td>\n",
       "      <td>2.009703</td>\n",
       "    </tr>\n",
       "  </tbody>\n",
       "</table>\n",
       "</div>"
      ],
      "text/plain": [
       "     λ  df    σ̂^2       BIC\n",
       "0  0.0   8  0.9033  0.275595\n",
       "1  0.1   5  0.8116  0.027062\n",
       "2  0.2   3  1.8865  0.776209\n",
       "3  0.3   3  4.1080  1.554422\n",
       "4  0.4   2  4.6396  1.628952\n",
       "5  0.5   1  5.1962  1.695090\n",
       "6  0.6   1  5.7991  1.804865\n",
       "7  0.7   1  6.4485  1.911010\n",
       "8  0.8   1  7.1444  2.013491\n",
       "9  0.9   0  7.4611  2.009703"
      ]
     },
     "execution_count": 10,
     "metadata": {},
     "output_type": "execute_result"
    }
   ],
   "source": [
    "n = 97\n",
    "model_selection_df.loc[:, 'BIC'] = np.log(model_selection_df.loc[:, 'σ̂^2']) \\\n",
    "                                    + model_selection_df.loc[:, 'df'] \\\n",
    "                                    * np.log(n)/n\n",
    "model_selection_df"
   ]
  },
  {
   "cell_type": "markdown",
   "metadata": {},
   "source": [
    "The best value for lambda can be identified as the one with the smallest value of the BIC"
   ]
  },
  {
   "cell_type": "code",
   "execution_count": 17,
   "metadata": {},
   "outputs": [
    {
     "name": "stdout",
     "output_type": "stream",
     "text": [
      "The best value of λ is 0.1 with the estimated variance of error as 0.8116 and BIC value as 0.0271\n"
     ]
    }
   ],
   "source": [
    "λ_best, σ̂_sq_best, BIC_best = model_selection_df.loc[np.argmin(model_selection_df.loc[:, 'BIC']), ['λ', 'σ̂^2', 'BIC']]\n",
    "print(f\"The best value of λ is {λ_best} with the estimated variance of error as {σ̂_sq_best} and BIC value as {BIC_best:.4f}\")"
   ]
  },
  {
   "cell_type": "markdown",
   "metadata": {},
   "source": [
    "### (b) Why variable selection is often necessary in regression and classification?"
   ]
  },
  {
   "cell_type": "markdown",
   "metadata": {},
   "source": [
    "**Ans:** Variable selection can be viewed as a special case of model selection. When building a statistical model, we start with a large number of variables/covariates to cover as much variability in data as possible. However, when the number of variables/size of the model increases too much we start to see overfitting due to high variance in prediction. \n",
    "\n",
    "This can be explained by the following set of equations. The expected prediction error in the case of linear regression model  consists of three parts:\n",
    "\n",
    "$$\n",
    "\\begin{eqnarray}\n",
    "Error(M) &=& Variance + Bias + \\sigma^2 \\\\\n",
    "&=& \\mathbf{x}'cov(\\hat\\beta)\\mathbf{x} + (\\mathop{\\mathbb{E}(\\mathbf{x}'\\hat\\beta)} - f(\\mathbf{x}))^2 + \\sigma^2 \\\\\n",
    "&=& \\sigma^2 \\sum_{i=1}^{p} x_i^2 + (\\mathop{\\mathbb{E}(\\mathbf{x}'\\hat\\beta)} - f(\\mathbf{x}))^2 + \\sigma^2\n",
    "\\end{eqnarray}\n",
    "$$\n",
    "\n",
    "where, the $f(\\mathbf{x}) = \\mathop{\\mathbf{E}}(Y\\mid X=\\mathbf{x})$ is the true value of the target and $\\sigma^2$ is constant independent of model $M$.\n",
    "\n",
    "Here, as the number of covariates $p$ increases, the variance increases, the bias decreases, and vice-versa. Thus, selecting the right number of covariates can impact the variability and bias of the model predictions. A model with high variance may perform well on the training data but does not generalise well on unseen data. While a model with a high bias may underfit with low model performance on train as well as unseen data."
   ]
  }
 ],
 "metadata": {
  "interpreter": {
   "hash": "0ad124727b83e810446ba4d7cf381bb9ebab6e5aaacb2229b08a80915cd4d087"
  },
  "kernelspec": {
   "display_name": "Python 3 (ipykernel)",
   "language": "python",
   "name": "python3"
  },
  "language_info": {
   "codemirror_mode": {
    "name": "ipython",
    "version": 3
   },
   "file_extension": ".py",
   "mimetype": "text/x-python",
   "name": "python",
   "nbconvert_exporter": "python",
   "pygments_lexer": "ipython3",
   "version": "3.9.7"
  }
 },
 "nbformat": 4,
 "nbformat_minor": 2
}
